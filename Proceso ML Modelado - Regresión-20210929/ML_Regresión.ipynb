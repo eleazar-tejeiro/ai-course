{
  "nbformat": 4,
  "nbformat_minor": 0,
  "metadata": {
    "colab": {
      "name": "ML Regresión.ipynb",
      "provenance": []
    },
    "kernelspec": {
      "name": "python3",
      "display_name": "Python 3"
    },
    "language_info": {
      "name": "python"
    }
  },
  "cells": [
    {
      "cell_type": "markdown",
      "metadata": {
        "id": "mocVS8ZSFR7e"
      },
      "source": [
        "#Practica 3: Modelado de Datos - Regresión\n",
        "\n",
        "1. Importar librerias\n",
        "2. Leer/seleccionar/renombrar datos\n",
        "3. Preparación de datos\n",
        "4. Partición del conjunto de datos\n",
        "5. Modelo de regresión lineal simple (entrenamiento y predicción)\n",
        "6. Cálculo de parametros y precisión\n",
        "7. Gráfico del modelo\n"
      ]
    },
    {
      "cell_type": "markdown",
      "metadata": {
        "id": "yYCKGeP_F5Gh"
      },
      "source": [
        "##Importar librerias"
      ]
    },
    {
      "cell_type": "code",
      "metadata": {
        "id": "oK3uSjrbF82g"
      },
      "source": [
        "#Se importan la librerias a utilizar \n",
        "import numpy as np\n",
        "import pandas as pd\n",
        "from sklearn import linear_model #para modelo de regresión\n",
        "import matplotlib.pyplot as plt\n",
        "from sklearn.model_selection import train_test_split #para partición de datos\n"
      ],
      "execution_count": 2,
      "outputs": []
    },
    {
      "cell_type": "markdown",
      "metadata": {
        "id": "jpFSJ3vXGvSP"
      },
      "source": [
        "## Leer/seleccionar/renombrar datos"
      ]
    },
    {
      "cell_type": "code",
      "metadata": {
        "colab": {
          "base_uri": "https://localhost:8080/",
          "height": 204
        },
        "id": "R4ckA2zQG4CB",
        "outputId": "21a71d32-8fd4-40ff-fe3e-1172d64f9c84"
      },
      "source": [
        "#Importamos los datos de excel\n",
        "df = pd.read_excel('BD-Inmuebles.xls') \n",
        "df.head()"
      ],
      "execution_count": 3,
      "outputs": [
        {
          "output_type": "execute_result",
          "data": {
            "text/html": [
              "<div>\n",
              "<style scoped>\n",
              "    .dataframe tbody tr th:only-of-type {\n",
              "        vertical-align: middle;\n",
              "    }\n",
              "\n",
              "    .dataframe tbody tr th {\n",
              "        vertical-align: top;\n",
              "    }\n",
              "\n",
              "    .dataframe thead th {\n",
              "        text-align: right;\n",
              "    }\n",
              "</style>\n",
              "<table border=\"1\" class=\"dataframe\">\n",
              "  <thead>\n",
              "    <tr style=\"text-align: right;\">\n",
              "      <th></th>\n",
              "      <th>Referencia</th>\n",
              "      <th>Fecha Alta</th>\n",
              "      <th>Tipo</th>\n",
              "      <th>Operación</th>\n",
              "      <th>Provincia</th>\n",
              "      <th>Superficie</th>\n",
              "      <th>Precio Venta</th>\n",
              "      <th>Fecha Venta</th>\n",
              "      <th>Vendedor</th>\n",
              "    </tr>\n",
              "  </thead>\n",
              "  <tbody>\n",
              "    <tr>\n",
              "      <th>0</th>\n",
              "      <td>1</td>\n",
              "      <td>2004-01-01</td>\n",
              "      <td>Parking</td>\n",
              "      <td>Alquiler</td>\n",
              "      <td>Lleida</td>\n",
              "      <td>291</td>\n",
              "      <td>2133903</td>\n",
              "      <td>2004-06-19</td>\n",
              "      <td>Carmen</td>\n",
              "    </tr>\n",
              "    <tr>\n",
              "      <th>1</th>\n",
              "      <td>2</td>\n",
              "      <td>2004-01-01</td>\n",
              "      <td>Local</td>\n",
              "      <td>Venta</td>\n",
              "      <td>Girona</td>\n",
              "      <td>199</td>\n",
              "      <td>1945424</td>\n",
              "      <td>2004-04-19</td>\n",
              "      <td>Pedro</td>\n",
              "    </tr>\n",
              "    <tr>\n",
              "      <th>2</th>\n",
              "      <td>3</td>\n",
              "      <td>2004-01-01</td>\n",
              "      <td>Oficina</td>\n",
              "      <td>Alquiler</td>\n",
              "      <td>Girona</td>\n",
              "      <td>82</td>\n",
              "      <td>712416</td>\n",
              "      <td>2004-11-08</td>\n",
              "      <td>Joaquín</td>\n",
              "    </tr>\n",
              "    <tr>\n",
              "      <th>3</th>\n",
              "      <td>4</td>\n",
              "      <td>2004-01-02</td>\n",
              "      <td>Parking</td>\n",
              "      <td>Alquiler</td>\n",
              "      <td>Girona</td>\n",
              "      <td>285</td>\n",
              "      <td>1815450</td>\n",
              "      <td>2004-04-27</td>\n",
              "      <td>Jesús</td>\n",
              "    </tr>\n",
              "    <tr>\n",
              "      <th>4</th>\n",
              "      <td>5</td>\n",
              "      <td>2004-01-02</td>\n",
              "      <td>Suelo</td>\n",
              "      <td>Venta</td>\n",
              "      <td>Tarragona</td>\n",
              "      <td>152</td>\n",
              "      <td>1138024</td>\n",
              "      <td>2004-07-10</td>\n",
              "      <td>María</td>\n",
              "    </tr>\n",
              "  </tbody>\n",
              "</table>\n",
              "</div>"
            ],
            "text/plain": [
              "   Referencia Fecha Alta     Tipo  ... Precio Venta Fecha Venta  Vendedor\n",
              "0           1 2004-01-01  Parking  ...      2133903  2004-06-19    Carmen\n",
              "1           2 2004-01-01    Local  ...      1945424  2004-04-19     Pedro\n",
              "2           3 2004-01-01  Oficina  ...       712416  2004-11-08   Joaquín\n",
              "3           4 2004-01-02  Parking  ...      1815450  2004-04-27     Jesús\n",
              "4           5 2004-01-02    Suelo  ...      1138024  2004-07-10     María\n",
              "\n",
              "[5 rows x 9 columns]"
            ]
          },
          "metadata": {},
          "execution_count": 3
        }
      ]
    },
    {
      "cell_type": "code",
      "metadata": {
        "colab": {
          "base_uri": "https://localhost:8080/",
          "height": 204
        },
        "id": "GUEjheeDImAQ",
        "outputId": "7b98975b-2771-413e-e67b-149dc3430a90"
      },
      "source": [
        "#seleccionar y renombrar datos\n",
        "df = df[['Superficie',\t'Precio Venta']]\n",
        "df.columns = ['M2', 'Valor']\n",
        "df.head()"
      ],
      "execution_count": 4,
      "outputs": [
        {
          "output_type": "execute_result",
          "data": {
            "text/html": [
              "<div>\n",
              "<style scoped>\n",
              "    .dataframe tbody tr th:only-of-type {\n",
              "        vertical-align: middle;\n",
              "    }\n",
              "\n",
              "    .dataframe tbody tr th {\n",
              "        vertical-align: top;\n",
              "    }\n",
              "\n",
              "    .dataframe thead th {\n",
              "        text-align: right;\n",
              "    }\n",
              "</style>\n",
              "<table border=\"1\" class=\"dataframe\">\n",
              "  <thead>\n",
              "    <tr style=\"text-align: right;\">\n",
              "      <th></th>\n",
              "      <th>M2</th>\n",
              "      <th>Valor</th>\n",
              "    </tr>\n",
              "  </thead>\n",
              "  <tbody>\n",
              "    <tr>\n",
              "      <th>0</th>\n",
              "      <td>291</td>\n",
              "      <td>2133903</td>\n",
              "    </tr>\n",
              "    <tr>\n",
              "      <th>1</th>\n",
              "      <td>199</td>\n",
              "      <td>1945424</td>\n",
              "    </tr>\n",
              "    <tr>\n",
              "      <th>2</th>\n",
              "      <td>82</td>\n",
              "      <td>712416</td>\n",
              "    </tr>\n",
              "    <tr>\n",
              "      <th>3</th>\n",
              "      <td>285</td>\n",
              "      <td>1815450</td>\n",
              "    </tr>\n",
              "    <tr>\n",
              "      <th>4</th>\n",
              "      <td>152</td>\n",
              "      <td>1138024</td>\n",
              "    </tr>\n",
              "  </tbody>\n",
              "</table>\n",
              "</div>"
            ],
            "text/plain": [
              "    M2    Valor\n",
              "0  291  2133903\n",
              "1  199  1945424\n",
              "2   82   712416\n",
              "3  285  1815450\n",
              "4  152  1138024"
            ]
          },
          "metadata": {},
          "execution_count": 4
        }
      ]
    },
    {
      "cell_type": "markdown",
      "metadata": {
        "id": "N4tUojSgJNiJ"
      },
      "source": [
        "## Preparación de datos"
      ]
    },
    {
      "cell_type": "code",
      "metadata": {
        "colab": {
          "base_uri": "https://localhost:8080/"
        },
        "id": "pLQLEXxbJVg2",
        "outputId": "04b34078-ea16-454c-fe22-516ea04b1d59"
      },
      "source": [
        "# limpieza de datos\n",
        "df.isnull().any()"
      ],
      "execution_count": 5,
      "outputs": [
        {
          "output_type": "execute_result",
          "data": {
            "text/plain": [
              "M2       False\n",
              "Valor    False\n",
              "dtype: bool"
            ]
          },
          "metadata": {},
          "execution_count": 5
        }
      ]
    },
    {
      "cell_type": "markdown",
      "metadata": {
        "id": "9LWViDRjKSsa"
      },
      "source": [
        "## Partición del conjunto de datos\n",
        "\n",
        "Conjunto de entrenamiento (train) y prueba (test)"
      ]
    },
    {
      "cell_type": "code",
      "metadata": {
        "id": "Uz8G_ClSKi6I"
      },
      "source": [
        "#Asignar \"X\" y \"y\"\n",
        "X = df[['M2']]\n",
        "y = df[['Valor']]\n",
        "\n",
        "#Separo los datos de \"train\" en entrenamiento y prueba \"test\" \n",
        "X_train, X_test, y_train, y_test = train_test_split(X, y, test_size = 0.2)"
      ],
      "execution_count": 6,
      "outputs": []
    },
    {
      "cell_type": "markdown",
      "metadata": {
        "id": "eva_hSV8MGiz"
      },
      "source": [
        "## Modelo de regresión lineal simple (entrenamiento y predicción)"
      ]
    },
    {
      "cell_type": "code",
      "metadata": {
        "id": "Ho_tkU1eMKK2"
      },
      "source": [
        "#Defino el algoritmo a usar\n",
        "RLS = linear_model.LinearRegression()\n",
        "\n",
        "#Entreno el modelo\n",
        "RLS.fit(X_train, y_train)\n",
        "\n",
        "#Predicción\n",
        "Y_pred = RLS.predict(X_test)"
      ],
      "execution_count": 7,
      "outputs": []
    },
    {
      "cell_type": "markdown",
      "metadata": {
        "id": "-9I7cMRJNWgz"
      },
      "source": [
        "## Calcular parámetros y precisión"
      ]
    },
    {
      "cell_type": "code",
      "metadata": {
        "colab": {
          "base_uri": "https://localhost:8080/"
        },
        "id": "zDfesBnuNcLs",
        "outputId": "65c9b306-6a5a-4d04-d942-1aaa57c25d01"
      },
      "source": [
        "#Calcular coeficiente \"a\"\n",
        "a = RLS.coef_\n",
        "print('Valor de la pendiente o coeficiente \"a\": ')\n",
        "print(a)\n",
        "\n",
        "#Calcular intercepto \"b\"\n",
        "b = RLS.intercept_\n",
        "print('Valor del intercepto \"b\": ')\n",
        "print(b)\n",
        "\n",
        "print()\n",
        "print('La ecuación del modelo es igual a: ')\n",
        "print('y = ', a, '* X + ',b)"
      ],
      "execution_count": 9,
      "outputs": [
        {
          "output_type": "stream",
          "name": "stdout",
          "text": [
            "Valor de la pendiente o coeficiente \"a\": \n",
            "[[7072.00905966]]\n",
            "Valor del intercepto \"b\": \n",
            "[-1375.08817574]\n",
            "\n",
            "La ecuación del modelo es igual a: \n",
            "y =  [[7072.00905966]] * X +  [-1375.08817574]\n"
          ]
        }
      ]
    },
    {
      "cell_type": "code",
      "metadata": {
        "colab": {
          "base_uri": "https://localhost:8080/"
        },
        "id": "u5ed4pYWOtAI",
        "outputId": "c01a0e39-3065-43f9-b5f7-9096bae6964c"
      },
      "source": [
        "#Calculo de precisión R2\n",
        "R2 = RLS.score(X_test, y_test)\n",
        "print()\n",
        "print('Precisión del modelo \"R2\": ')\n",
        "print(R2)"
      ],
      "execution_count": 10,
      "outputs": [
        {
          "output_type": "stream",
          "name": "stdout",
          "text": [
            "\n",
            "Precisión del modelo \"R2\": \n",
            "0.7451406308133994\n"
          ]
        }
      ]
    },
    {
      "cell_type": "code",
      "metadata": {
        "colab": {
          "base_uri": "https://localhost:8080/"
        },
        "id": "CjZoIQNPP9bb",
        "outputId": "b8d10f32-ab38-4348-b95b-9bb8c859280c"
      },
      "source": [
        "#Predecir un valor\n",
        "y1 = a*200 + b\n",
        "\n",
        "print(y1)"
      ],
      "execution_count": 12,
      "outputs": [
        {
          "output_type": "stream",
          "name": "stdout",
          "text": [
            "[[1413026.72375553]]\n"
          ]
        }
      ]
    },
    {
      "cell_type": "markdown",
      "metadata": {
        "id": "XzUw5X7aQG5P"
      },
      "source": [
        "## Grafico del modelo"
      ]
    },
    {
      "cell_type": "code",
      "metadata": {
        "colab": {
          "base_uri": "https://localhost:8080/",
          "height": 295
        },
        "id": "PKSbTMuPQKqx",
        "outputId": "8c8e122a-3823-4b1c-cd7e-4f276331774c"
      },
      "source": [
        "#Graficamos los datos con el modelo\n",
        "plt.scatter(X_test, y_test)\n",
        "plt.plot(X_test, Y_pred, color='red', linewidth=3)\n",
        "plt.title('Regresión Lineal Simple')\n",
        "plt.xlabel('M2')\n",
        "plt.ylabel('Valor')\n",
        "plt.show()"
      ],
      "execution_count": 11,
      "outputs": [
        {
          "output_type": "display_data",
          "data": {
            "image/png": "[encoded data removed]",
            "text/plain": [
              "<Figure size 432x288 with 1 Axes>"
            ]
          },
          "metadata": {
            "needs_background": "light"
          }
        }
      ]
    }
  ]
}