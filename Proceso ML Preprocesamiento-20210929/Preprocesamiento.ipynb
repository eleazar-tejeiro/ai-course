{
  "nbformat": 4,
  "nbformat_minor": 0,
  "metadata": {
    "colab": {
      "name": "Preprocesamiento.ipynb",
      "provenance": []
    },
    "kernelspec": {
      "name": "python3",
      "display_name": "Python 3"
    },
    "language_info": {
      "name": "python"
    }
  },
  "cells": [
    {
      "cell_type": "markdown",
      "metadata": {
        "id": "mome9SCHCwxz"
      },
      "source": [
        "#Práctica 2: Preprocesamiento de datos\n",
        "\n",
        "1. Importar librerias\n",
        "2. Leer/seleccionar/renombrar datos\n",
        "3. Preprocesamiento"
      ]
    },
    {
      "cell_type": "markdown",
      "metadata": {
        "id": "AhlQGj3bDDzr"
      },
      "source": [
        "##1. Importar librerias"
      ]
    },
    {
      "cell_type": "code",
      "metadata": {
        "id": "NSSbQ4VEDJ05"
      },
      "source": [
        "import numpy as np # procesamiento numérico\n",
        "import pandas as pd # lectura de datos\n",
        "import seaborn as sns\n",
        "import matplotlib.pyplot as plt\n",
        "from sklearn.preprocessing import LabelEncoder  #para transformación de los datos"
      ],
      "execution_count": 1,
      "outputs": []
    },
    {
      "cell_type": "markdown",
      "metadata": {
        "id": "ItIK6VuFD0qY"
      },
      "source": [
        "##2. Leer/seleccionar/renombrar datos"
      ]
    },
    {
      "cell_type": "code",
      "metadata": {
        "colab": {
          "base_uri": "https://localhost:8080/",
          "height": 204
        },
        "id": "xigMRH6FD8JH",
        "outputId": "d69623cc-7ede-4f5a-cdd9-dafe8cfc0037"
      },
      "source": [
        "#Leer datos\n",
        "df = pd.read_csv('surveys.csv')\n",
        "df.head()"
      ],
      "execution_count": 2,
      "outputs": [
        {
          "output_type": "execute_result",
          "data": {
            "text/html": [
              "<div>\n",
              "<style scoped>\n",
              "    .dataframe tbody tr th:only-of-type {\n",
              "        vertical-align: middle;\n",
              "    }\n",
              "\n",
              "    .dataframe tbody tr th {\n",
              "        vertical-align: top;\n",
              "    }\n",
              "\n",
              "    .dataframe thead th {\n",
              "        text-align: right;\n",
              "    }\n",
              "</style>\n",
              "<table border=\"1\" class=\"dataframe\">\n",
              "  <thead>\n",
              "    <tr style=\"text-align: right;\">\n",
              "      <th></th>\n",
              "      <th>record_id</th>\n",
              "      <th>month</th>\n",
              "      <th>day</th>\n",
              "      <th>year</th>\n",
              "      <th>plot_id</th>\n",
              "      <th>species_id</th>\n",
              "      <th>sex</th>\n",
              "      <th>hindfoot_length</th>\n",
              "      <th>weight</th>\n",
              "    </tr>\n",
              "  </thead>\n",
              "  <tbody>\n",
              "    <tr>\n",
              "      <th>0</th>\n",
              "      <td>1</td>\n",
              "      <td>7</td>\n",
              "      <td>16</td>\n",
              "      <td>1977</td>\n",
              "      <td>2</td>\n",
              "      <td>NL</td>\n",
              "      <td>M</td>\n",
              "      <td>32.0</td>\n",
              "      <td>NaN</td>\n",
              "    </tr>\n",
              "    <tr>\n",
              "      <th>1</th>\n",
              "      <td>2</td>\n",
              "      <td>7</td>\n",
              "      <td>16</td>\n",
              "      <td>1977</td>\n",
              "      <td>3</td>\n",
              "      <td>NL</td>\n",
              "      <td>M</td>\n",
              "      <td>33.0</td>\n",
              "      <td>NaN</td>\n",
              "    </tr>\n",
              "    <tr>\n",
              "      <th>2</th>\n",
              "      <td>3</td>\n",
              "      <td>7</td>\n",
              "      <td>16</td>\n",
              "      <td>1977</td>\n",
              "      <td>2</td>\n",
              "      <td>DM</td>\n",
              "      <td>F</td>\n",
              "      <td>37.0</td>\n",
              "      <td>NaN</td>\n",
              "    </tr>\n",
              "    <tr>\n",
              "      <th>3</th>\n",
              "      <td>4</td>\n",
              "      <td>7</td>\n",
              "      <td>16</td>\n",
              "      <td>1977</td>\n",
              "      <td>7</td>\n",
              "      <td>DM</td>\n",
              "      <td>M</td>\n",
              "      <td>36.0</td>\n",
              "      <td>NaN</td>\n",
              "    </tr>\n",
              "    <tr>\n",
              "      <th>4</th>\n",
              "      <td>5</td>\n",
              "      <td>7</td>\n",
              "      <td>16</td>\n",
              "      <td>1977</td>\n",
              "      <td>3</td>\n",
              "      <td>DM</td>\n",
              "      <td>M</td>\n",
              "      <td>35.0</td>\n",
              "      <td>NaN</td>\n",
              "    </tr>\n",
              "  </tbody>\n",
              "</table>\n",
              "</div>"
            ],
            "text/plain": [
              "   record_id  month  day  year  plot_id species_id sex  hindfoot_length  weight\n",
              "0          1      7   16  1977        2         NL   M             32.0     NaN\n",
              "1          2      7   16  1977        3         NL   M             33.0     NaN\n",
              "2          3      7   16  1977        2         DM   F             37.0     NaN\n",
              "3          4      7   16  1977        7         DM   M             36.0     NaN\n",
              "4          5      7   16  1977        3         DM   M             35.0     NaN"
            ]
          },
          "metadata": {},
          "execution_count": 2
        }
      ]
    },
    {
      "cell_type": "code",
      "metadata": {
        "colab": {
          "base_uri": "https://localhost:8080/",
          "height": 204
        },
        "id": "zzzDU2RzFDpA",
        "outputId": "489616f7-41a9-4518-ba3f-c7bc3c6c9662"
      },
      "source": [
        "# Seleccionar y renombrar columnas\n",
        "df = df[['month', 'day', 'year', 'species_id', 'sex', 'hindfoot_length', 'weight']];\n",
        "\n",
        "#renombrar\n",
        "df.columns = ['mes', 'dia', 'año', 'especie', 'sexo', 'longitud_pie', 'peso'];\n",
        "\n",
        "df.head()"
      ],
      "execution_count": 3,
      "outputs": [
        {
          "output_type": "execute_result",
          "data": {
            "text/html": [
              "<div>\n",
              "<style scoped>\n",
              "    .dataframe tbody tr th:only-of-type {\n",
              "        vertical-align: middle;\n",
              "    }\n",
              "\n",
              "    .dataframe tbody tr th {\n",
              "        vertical-align: top;\n",
              "    }\n",
              "\n",
              "    .dataframe thead th {\n",
              "        text-align: right;\n",
              "    }\n",
              "</style>\n",
              "<table border=\"1\" class=\"dataframe\">\n",
              "  <thead>\n",
              "    <tr style=\"text-align: right;\">\n",
              "      <th></th>\n",
              "      <th>mes</th>\n",
              "      <th>dia</th>\n",
              "      <th>año</th>\n",
              "      <th>especie</th>\n",
              "      <th>sexo</th>\n",
              "      <th>longitud_pie</th>\n",
              "      <th>peso</th>\n",
              "    </tr>\n",
              "  </thead>\n",
              "  <tbody>\n",
              "    <tr>\n",
              "      <th>0</th>\n",
              "      <td>7</td>\n",
              "      <td>16</td>\n",
              "      <td>1977</td>\n",
              "      <td>NL</td>\n",
              "      <td>M</td>\n",
              "      <td>32.0</td>\n",
              "      <td>NaN</td>\n",
              "    </tr>\n",
              "    <tr>\n",
              "      <th>1</th>\n",
              "      <td>7</td>\n",
              "      <td>16</td>\n",
              "      <td>1977</td>\n",
              "      <td>NL</td>\n",
              "      <td>M</td>\n",
              "      <td>33.0</td>\n",
              "      <td>NaN</td>\n",
              "    </tr>\n",
              "    <tr>\n",
              "      <th>2</th>\n",
              "      <td>7</td>\n",
              "      <td>16</td>\n",
              "      <td>1977</td>\n",
              "      <td>DM</td>\n",
              "      <td>F</td>\n",
              "      <td>37.0</td>\n",
              "      <td>NaN</td>\n",
              "    </tr>\n",
              "    <tr>\n",
              "      <th>3</th>\n",
              "      <td>7</td>\n",
              "      <td>16</td>\n",
              "      <td>1977</td>\n",
              "      <td>DM</td>\n",
              "      <td>M</td>\n",
              "      <td>36.0</td>\n",
              "      <td>NaN</td>\n",
              "    </tr>\n",
              "    <tr>\n",
              "      <th>4</th>\n",
              "      <td>7</td>\n",
              "      <td>16</td>\n",
              "      <td>1977</td>\n",
              "      <td>DM</td>\n",
              "      <td>M</td>\n",
              "      <td>35.0</td>\n",
              "      <td>NaN</td>\n",
              "    </tr>\n",
              "  </tbody>\n",
              "</table>\n",
              "</div>"
            ],
            "text/plain": [
              "   mes  dia   año especie sexo  longitud_pie  peso\n",
              "0    7   16  1977      NL    M          32.0   NaN\n",
              "1    7   16  1977      NL    M          33.0   NaN\n",
              "2    7   16  1977      DM    F          37.0   NaN\n",
              "3    7   16  1977      DM    M          36.0   NaN\n",
              "4    7   16  1977      DM    M          35.0   NaN"
            ]
          },
          "metadata": {},
          "execution_count": 3
        }
      ]
    },
    {
      "cell_type": "markdown",
      "metadata": {
        "id": "8N_llA1kKRH5"
      },
      "source": [
        "##3. Preprocesamiento"
      ]
    },
    {
      "cell_type": "code",
      "metadata": {
        "colab": {
          "base_uri": "https://localhost:8080/"
        },
        "id": "Cov_hLyFKaq3",
        "outputId": "d5573fa7-6f90-4bc1-eb42-a74a05958609"
      },
      "source": [
        "# Consultar si hay datos perdidos en cada columna\n",
        "\n",
        "df.isnull().any()"
      ],
      "execution_count": 4,
      "outputs": [
        {
          "output_type": "execute_result",
          "data": {
            "text/plain": [
              "mes             False\n",
              "dia             False\n",
              "año             False\n",
              "especie          True\n",
              "sexo             True\n",
              "longitud_pie     True\n",
              "peso             True\n",
              "dtype: bool"
            ]
          },
          "metadata": {},
          "execution_count": 4
        }
      ]
    },
    {
      "cell_type": "code",
      "metadata": {
        "colab": {
          "base_uri": "https://localhost:8080/"
        },
        "id": "nMK3UvSSK02U",
        "outputId": "bbcc5c8f-60dd-4c46-b818-f78c7355ace7"
      },
      "source": [
        "df.isnull().sum() #para consultar total de datos perdidos por columna"
      ],
      "execution_count": 5,
      "outputs": [
        {
          "output_type": "execute_result",
          "data": {
            "text/plain": [
              "mes                0\n",
              "dia                0\n",
              "año                0\n",
              "especie          763\n",
              "sexo            2511\n",
              "longitud_pie    4111\n",
              "peso            3266\n",
              "dtype: int64"
            ]
          },
          "metadata": {},
          "execution_count": 5
        }
      ]
    },
    {
      "cell_type": "code",
      "metadata": {
        "colab": {
          "base_uri": "https://localhost:8080/"
        },
        "id": "25V9Ml1fLRff",
        "outputId": "a62eb924-8881-4e76-a55a-85df8413129b"
      },
      "source": [
        "df.shape"
      ],
      "execution_count": 6,
      "outputs": [
        {
          "output_type": "execute_result",
          "data": {
            "text/plain": [
              "(35549, 7)"
            ]
          },
          "metadata": {},
          "execution_count": 6
        }
      ]
    },
    {
      "cell_type": "markdown",
      "metadata": {
        "id": "u15EVAtOMNqP"
      },
      "source": [
        "###3.1 Eliminar todos los registros perdidos"
      ]
    },
    {
      "cell_type": "code",
      "metadata": {
        "colab": {
          "base_uri": "https://localhost:8080/",
          "height": 204
        },
        "id": "VRDSCSb1MVw3",
        "outputId": "da150433-d733-4183-a2ed-4de86033923a"
      },
      "source": [
        "df1 = df.dropna(axis=0)\n",
        "df1.head()"
      ],
      "execution_count": 7,
      "outputs": [
        {
          "output_type": "execute_result",
          "data": {
            "text/html": [
              "<div>\n",
              "<style scoped>\n",
              "    .dataframe tbody tr th:only-of-type {\n",
              "        vertical-align: middle;\n",
              "    }\n",
              "\n",
              "    .dataframe tbody tr th {\n",
              "        vertical-align: top;\n",
              "    }\n",
              "\n",
              "    .dataframe thead th {\n",
              "        text-align: right;\n",
              "    }\n",
              "</style>\n",
              "<table border=\"1\" class=\"dataframe\">\n",
              "  <thead>\n",
              "    <tr style=\"text-align: right;\">\n",
              "      <th></th>\n",
              "      <th>mes</th>\n",
              "      <th>dia</th>\n",
              "      <th>año</th>\n",
              "      <th>especie</th>\n",
              "      <th>sexo</th>\n",
              "      <th>longitud_pie</th>\n",
              "      <th>peso</th>\n",
              "    </tr>\n",
              "  </thead>\n",
              "  <tbody>\n",
              "    <tr>\n",
              "      <th>62</th>\n",
              "      <td>8</td>\n",
              "      <td>19</td>\n",
              "      <td>1977</td>\n",
              "      <td>DM</td>\n",
              "      <td>M</td>\n",
              "      <td>35.0</td>\n",
              "      <td>40.0</td>\n",
              "    </tr>\n",
              "    <tr>\n",
              "      <th>63</th>\n",
              "      <td>8</td>\n",
              "      <td>19</td>\n",
              "      <td>1977</td>\n",
              "      <td>DM</td>\n",
              "      <td>M</td>\n",
              "      <td>37.0</td>\n",
              "      <td>48.0</td>\n",
              "    </tr>\n",
              "    <tr>\n",
              "      <th>64</th>\n",
              "      <td>8</td>\n",
              "      <td>19</td>\n",
              "      <td>1977</td>\n",
              "      <td>DM</td>\n",
              "      <td>F</td>\n",
              "      <td>34.0</td>\n",
              "      <td>29.0</td>\n",
              "    </tr>\n",
              "    <tr>\n",
              "      <th>65</th>\n",
              "      <td>8</td>\n",
              "      <td>19</td>\n",
              "      <td>1977</td>\n",
              "      <td>DM</td>\n",
              "      <td>F</td>\n",
              "      <td>35.0</td>\n",
              "      <td>46.0</td>\n",
              "    </tr>\n",
              "    <tr>\n",
              "      <th>66</th>\n",
              "      <td>8</td>\n",
              "      <td>19</td>\n",
              "      <td>1977</td>\n",
              "      <td>DM</td>\n",
              "      <td>M</td>\n",
              "      <td>35.0</td>\n",
              "      <td>36.0</td>\n",
              "    </tr>\n",
              "  </tbody>\n",
              "</table>\n",
              "</div>"
            ],
            "text/plain": [
              "    mes  dia   año especie sexo  longitud_pie  peso\n",
              "62    8   19  1977      DM    M          35.0  40.0\n",
              "63    8   19  1977      DM    M          37.0  48.0\n",
              "64    8   19  1977      DM    F          34.0  29.0\n",
              "65    8   19  1977      DM    F          35.0  46.0\n",
              "66    8   19  1977      DM    M          35.0  36.0"
            ]
          },
          "metadata": {},
          "execution_count": 7
        }
      ]
    },
    {
      "cell_type": "code",
      "metadata": {
        "colab": {
          "base_uri": "https://localhost:8080/"
        },
        "id": "rS3n_BowMtjk",
        "outputId": "bff446d6-a911-4560-cf51-c1b815b01611"
      },
      "source": [
        "df1.shape"
      ],
      "execution_count": 8,
      "outputs": [
        {
          "output_type": "execute_result",
          "data": {
            "text/plain": [
              "(30676, 7)"
            ]
          },
          "metadata": {},
          "execution_count": 8
        }
      ]
    },
    {
      "cell_type": "markdown",
      "metadata": {
        "id": "oQarSEvjNJfR"
      },
      "source": [
        "###3.2 Eliminar registros pérdidos sobre una columna"
      ]
    },
    {
      "cell_type": "code",
      "metadata": {
        "colab": {
          "base_uri": "https://localhost:8080/"
        },
        "id": "jBRZOxG4Nhve",
        "outputId": "ced33229-f5ec-4812-978a-53836dd84b41"
      },
      "source": [
        "df2 = df.dropna(subset = ['longitud_pie'], axis=0)\n",
        "\n",
        "df2.isnull().sum()"
      ],
      "execution_count": 9,
      "outputs": [
        {
          "output_type": "execute_result",
          "data": {
            "text/plain": [
              "mes               0\n",
              "dia               0\n",
              "año               0\n",
              "especie           0\n",
              "sexo             68\n",
              "longitud_pie      0\n",
              "peso            700\n",
              "dtype: int64"
            ]
          },
          "metadata": {},
          "execution_count": 9
        }
      ]
    },
    {
      "cell_type": "markdown",
      "metadata": {
        "id": "fxM1rowYOzPU"
      },
      "source": [
        "###3.3 Eliminar columna completa\n",
        "\n",
        "Esto puede hacerse con el comando: df.dropna(axis=1), sin embargo se puede condicionar a que sólo se haga si los registros perdidos en la columna superan la mitad (50%) usando thresh=half_count, donde half_count=len(df)/2"
      ]
    },
    {
      "cell_type": "code",
      "metadata": {
        "colab": {
          "base_uri": "https://localhost:8080/"
        },
        "id": "MgfAOHBGO5Cq",
        "outputId": "4abc61ae-f5ec-4649-ea12-62bbb4f441fe"
      },
      "source": [
        "df3 = df.dropna(axis = 1)\n",
        "\n",
        "df3.shape"
      ],
      "execution_count": 10,
      "outputs": [
        {
          "output_type": "execute_result",
          "data": {
            "text/plain": [
              "(35549, 3)"
            ]
          },
          "metadata": {},
          "execution_count": 10
        }
      ]
    },
    {
      "cell_type": "markdown",
      "metadata": {
        "id": "LQbK3tEkPp6X"
      },
      "source": [
        "###3.4 Reemplazar registros perdidos con el valor medio\n",
        "\n",
        "Puede usarse para reemplazar por promedio (mean), mediana (median), moda (mode), u otro valor cosntante como cero, u otro."
      ]
    },
    {
      "cell_type": "code",
      "metadata": {
        "colab": {
          "base_uri": "https://localhost:8080/"
        },
        "id": "JanDEf97P5GX",
        "outputId": "a6a00070-39a1-4188-9e00-d60fbfad9057"
      },
      "source": [
        "PromPeso = df['peso'].mean()\n",
        "print (PromPeso)"
      ],
      "execution_count": 11,
      "outputs": [
        {
          "output_type": "stream",
          "name": "stdout",
          "text": [
            "42.672428212991356\n"
          ]
        }
      ]
    },
    {
      "cell_type": "code",
      "metadata": {
        "colab": {
          "base_uri": "https://localhost:8080/"
        },
        "id": "00J0pqqaQKOA",
        "outputId": "8c194aa5-3de4-4957-f417-cf217c184971"
      },
      "source": [
        "df4 = df['peso'].replace(np.nan, PromPeso)\n",
        "df4.head"
      ],
      "execution_count": 12,
      "outputs": [
        {
          "output_type": "execute_result",
          "data": {
            "text/plain": [
              "<bound method NDFrame.head of 0        42.672428\n",
              "1        42.672428\n",
              "2        42.672428\n",
              "3        42.672428\n",
              "4        42.672428\n",
              "           ...    \n",
              "35544    42.672428\n",
              "35545    42.672428\n",
              "35546    14.000000\n",
              "35547    51.000000\n",
              "35548    42.672428\n",
              "Name: peso, Length: 35549, dtype: float64>"
            ]
          },
          "metadata": {},
          "execution_count": 12
        }
      ]
    },
    {
      "cell_type": "markdown",
      "metadata": {
        "id": "Yq7OoESqQnpN"
      },
      "source": [
        "###3.5 Reemplazar registros perdidos en columnas categóricas"
      ]
    },
    {
      "cell_type": "code",
      "metadata": {
        "colab": {
          "base_uri": "https://localhost:8080/"
        },
        "id": "PCh04rQqQwyy",
        "outputId": "b13f00e3-3411-47d7-fa79-d5a2b6f24482"
      },
      "source": [
        "ModaSexo = df['sexo'].mode() #Se calcula el valor que mas se repite en la columna sexo\n",
        "print (ModaSexo)"
      ],
      "execution_count": 13,
      "outputs": [
        {
          "output_type": "stream",
          "name": "stdout",
          "text": [
            "0    M\n",
            "dtype: object\n"
          ]
        }
      ]
    },
    {
      "cell_type": "code",
      "metadata": {
        "colab": {
          "base_uri": "https://localhost:8080/"
        },
        "id": "Qz_1GhUXRH7s",
        "outputId": "6b885662-5d91-4ba8-856e-6c88276f11ef"
      },
      "source": [
        "df5 = df['sexo'].fillna(\"M\", inplace=True) #se reemplazan registros perdidos\n",
        "\n",
        "df.head"
      ],
      "execution_count": 14,
      "outputs": [
        {
          "output_type": "execute_result",
          "data": {
            "text/plain": [
              "<bound method NDFrame.head of        mes  dia   año especie sexo  longitud_pie  peso\n",
              "0        7   16  1977      NL    M          32.0   NaN\n",
              "1        7   16  1977      NL    M          33.0   NaN\n",
              "2        7   16  1977      DM    F          37.0   NaN\n",
              "3        7   16  1977      DM    M          36.0   NaN\n",
              "4        7   16  1977      DM    M          35.0   NaN\n",
              "...    ...  ...   ...     ...  ...           ...   ...\n",
              "35544   12   31  2002      AH    M           NaN   NaN\n",
              "35545   12   31  2002      AH    M           NaN   NaN\n",
              "35546   12   31  2002      RM    F          15.0  14.0\n",
              "35547   12   31  2002      DO    M          36.0  51.0\n",
              "35548   12   31  2002     NaN    M           NaN   NaN\n",
              "\n",
              "[35549 rows x 7 columns]>"
            ]
          },
          "metadata": {},
          "execution_count": 14
        }
      ]
    },
    {
      "cell_type": "markdown",
      "metadata": {
        "id": "wo_X6iAHRrYS"
      },
      "source": [
        "###3.6 Transformar variables categóricas a numéricas"
      ]
    },
    {
      "cell_type": "code",
      "metadata": {
        "colab": {
          "base_uri": "https://localhost:8080/"
        },
        "id": "FeE6J864TTBZ",
        "outputId": "52f5c963-d010-4008-ca67-7212d18ce18e"
      },
      "source": [
        "df.isnull().sum()"
      ],
      "execution_count": 15,
      "outputs": [
        {
          "output_type": "execute_result",
          "data": {
            "text/plain": [
              "mes                0\n",
              "dia                0\n",
              "año                0\n",
              "especie          763\n",
              "sexo               0\n",
              "longitud_pie    4111\n",
              "peso            3266\n",
              "dtype: int64"
            ]
          },
          "metadata": {},
          "execution_count": 15
        }
      ]
    },
    {
      "cell_type": "code",
      "metadata": {
        "colab": {
          "base_uri": "https://localhost:8080/",
          "height": 428
        },
        "id": "L6TbYYOVR2BS",
        "outputId": "0cc6511d-1f65-43a9-cf8e-c576dd078f9a"
      },
      "source": [
        "encoder = LabelEncoder()\n",
        "df1['sexo'] = encoder.fit_transform(df1['sexo'])\n",
        "df1['especie'] = encoder.fit_transform(df1['especie'])\n",
        "df1.head()"
      ],
      "execution_count": 17,
      "outputs": [
        {
          "output_type": "stream",
          "name": "stderr",
          "text": [
            "/usr/local/lib/python3.7/dist-packages/ipykernel_launcher.py:2: SettingWithCopyWarning: \n",
            "A value is trying to be set on a copy of a slice from a DataFrame.\n",
            "Try using .loc[row_indexer,col_indexer] = value instead\n",
            "\n",
            "See the caveats in the documentation: https://pandas.pydata.org/pandas-docs/stable/user_guide/indexing.html#returning-a-view-versus-a-copy\n",
            "  \n",
            "/usr/local/lib/python3.7/dist-packages/ipykernel_launcher.py:3: SettingWithCopyWarning: \n",
            "A value is trying to be set on a copy of a slice from a DataFrame.\n",
            "Try using .loc[row_indexer,col_indexer] = value instead\n",
            "\n",
            "See the caveats in the documentation: https://pandas.pydata.org/pandas-docs/stable/user_guide/indexing.html#returning-a-view-versus-a-copy\n",
            "  This is separate from the ipykernel package so we can avoid doing imports until\n"
          ]
        },
        {
          "output_type": "execute_result",
          "data": {
            "text/html": [
              "<div>\n",
              "<style scoped>\n",
              "    .dataframe tbody tr th:only-of-type {\n",
              "        vertical-align: middle;\n",
              "    }\n",
              "\n",
              "    .dataframe tbody tr th {\n",
              "        vertical-align: top;\n",
              "    }\n",
              "\n",
              "    .dataframe thead th {\n",
              "        text-align: right;\n",
              "    }\n",
              "</style>\n",
              "<table border=\"1\" class=\"dataframe\">\n",
              "  <thead>\n",
              "    <tr style=\"text-align: right;\">\n",
              "      <th></th>\n",
              "      <th>mes</th>\n",
              "      <th>dia</th>\n",
              "      <th>año</th>\n",
              "      <th>especie</th>\n",
              "      <th>sexo</th>\n",
              "      <th>longitud_pie</th>\n",
              "      <th>peso</th>\n",
              "    </tr>\n",
              "  </thead>\n",
              "  <tbody>\n",
              "    <tr>\n",
              "      <th>62</th>\n",
              "      <td>8</td>\n",
              "      <td>19</td>\n",
              "      <td>1977</td>\n",
              "      <td>1</td>\n",
              "      <td>1</td>\n",
              "      <td>35.0</td>\n",
              "      <td>40.0</td>\n",
              "    </tr>\n",
              "    <tr>\n",
              "      <th>63</th>\n",
              "      <td>8</td>\n",
              "      <td>19</td>\n",
              "      <td>1977</td>\n",
              "      <td>1</td>\n",
              "      <td>1</td>\n",
              "      <td>37.0</td>\n",
              "      <td>48.0</td>\n",
              "    </tr>\n",
              "    <tr>\n",
              "      <th>64</th>\n",
              "      <td>8</td>\n",
              "      <td>19</td>\n",
              "      <td>1977</td>\n",
              "      <td>1</td>\n",
              "      <td>0</td>\n",
              "      <td>34.0</td>\n",
              "      <td>29.0</td>\n",
              "    </tr>\n",
              "    <tr>\n",
              "      <th>65</th>\n",
              "      <td>8</td>\n",
              "      <td>19</td>\n",
              "      <td>1977</td>\n",
              "      <td>1</td>\n",
              "      <td>0</td>\n",
              "      <td>35.0</td>\n",
              "      <td>46.0</td>\n",
              "    </tr>\n",
              "    <tr>\n",
              "      <th>66</th>\n",
              "      <td>8</td>\n",
              "      <td>19</td>\n",
              "      <td>1977</td>\n",
              "      <td>1</td>\n",
              "      <td>1</td>\n",
              "      <td>35.0</td>\n",
              "      <td>36.0</td>\n",
              "    </tr>\n",
              "  </tbody>\n",
              "</table>\n",
              "</div>"
            ],
            "text/plain": [
              "    mes  dia   año  especie  sexo  longitud_pie  peso\n",
              "62    8   19  1977        1     1          35.0  40.0\n",
              "63    8   19  1977        1     1          37.0  48.0\n",
              "64    8   19  1977        1     0          34.0  29.0\n",
              "65    8   19  1977        1     0          35.0  46.0\n",
              "66    8   19  1977        1     1          35.0  36.0"
            ]
          },
          "metadata": {},
          "execution_count": 17
        }
      ]
    }
  ]
}